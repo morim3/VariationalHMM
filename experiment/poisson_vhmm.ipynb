{
 "cells": [
  {
   "cell_type": "code",
   "execution_count": 32,
   "metadata": {
    "collapsed": true
   },
   "outputs": [
    {
     "name": "stdout",
     "output_type": "stream",
     "text": [
      "The autoreload extension is already loaded. To reload it, use:\n",
      "  %reload_ext autoreload\n"
     ]
    }
   ],
   "source": [
    "from model.poisson_vhmm import PoissonVHMM\n",
    "import jax\n",
    "from numpy.random import gamma, poisson\n",
    "import numpy as np\n",
    "\n",
    "%load_ext autoreload\n",
    "%autoreload"
   ]
  },
  {
   "cell_type": "code",
   "execution_count": 19,
   "outputs": [
    {
     "name": "stdout",
     "output_type": "stream",
     "text": [
      "[1 1 1 1 1 0 1 1 0 0]\n"
     ]
    }
   ],
   "source": [
    "### generate test data\n",
    "\n",
    "cluster_num = 2\n",
    "batch = 10\n",
    "time = 100\n",
    "\n",
    "pi_dirichlet = 5. * np.ones(cluster_num)\n",
    "A_dirichlet = 10. * np.eye(cluster_num) + 1.0 * np.ones((cluster_num, cluster_num))\n",
    "\n",
    "pi = np.random.dirichlet(pi_dirichlet)\n",
    "A = np.array([np.random.dirichlet(A_dirichlet[i]) for i in range(cluster_num)])\n",
    "\n",
    "lam_gamma_a = 3.\n",
    "lam_gamma_b = 0.01\n",
    "\n",
    "lam = np.random.gamma(lam_gamma_a, 1/lam_gamma_b, size=cluster_num)\n",
    "\n",
    "state = np.zeros((time, batch), dtype=np.int16)\n",
    "for i in range(time):\n",
    "    if i == 0:\n",
    "        state[0] = np.random.multinomial(n=1, pvals=pi, size=state[0].shape).argmax(-1)\n",
    "    else:\n",
    "        for b in range(batch):\n",
    "            state[i][b] = np.random.multinomial(n=1, pvals=A[state[i-1][b]], size=1).argmax(-1)\n",
    "\n",
    "obs = np.zeros((time, batch, cluster_num))\n",
    "for i in range(time):\n",
    "    for b in range(batch):\n",
    "        obs[i][b] = np.random.poisson(lam[state[i][b]])\n"
   ],
   "metadata": {
    "collapsed": false,
    "pycharm": {
     "name": "#%%\n"
    }
   }
  },
  {
   "cell_type": "code",
   "execution_count": 30,
   "outputs": [
    {
     "data": {
      "text/plain": "[<matplotlib.lines.Line2D at 0x7f580778a5e0>,\n <matplotlib.lines.Line2D at 0x7f580778a640>]"
     },
     "execution_count": 30,
     "metadata": {},
     "output_type": "execute_result"
    },
    {
     "data": {
      "text/plain": "<Figure size 432x288 with 2 Axes>",
      "image/png": "[encoded data removed]"
     },
     "metadata": {
      "needs_background": "light"
     },
     "output_type": "display_data"
    }
   ],
   "source": [
    "import matplotlib.pyplot as plt\n",
    "\n",
    "plt.subplot(2, 1, 1)\n",
    "plt.plot(state[:, 0])\n",
    "plt.subplot(2, 1, 2)\n",
    "plt.plot(obs[:, 0])\n"
   ],
   "metadata": {
    "collapsed": false,
    "pycharm": {
     "name": "#%%\n"
    }
   }
  },
  {
   "cell_type": "code",
   "execution_count": 37,
   "outputs": [],
   "source": [
    "import jax.numpy as jnp\n",
    "cluster_num = 2\n",
    "model = PoissonVHMM(cluster_num,\n",
    "                    init_state_prior=jnp.array(10*jnp.ones(cluster_num)),\n",
    "                    transition_prior=100*jnp.eye(cluster_num) +  1.0 * np.ones(cluster_num),\n",
    "                    poisson_prior=jnp.array([1, 0.01]))"
   ],
   "metadata": {
    "collapsed": false,
    "pycharm": {
     "name": "#%%\n"
    }
   }
  },
  {
   "cell_type": "code",
   "execution_count": 38,
   "outputs": [
    {
     "ename": "ValueError",
     "evalue": "Incompatible shapes for broadcasting: ((1, 100, 10, 2), (100, 10, 2, 1))",
     "output_type": "error",
     "traceback": [
      "\u001B[0;31m---------------------------------------------------------------------------\u001B[0m",
      "\u001B[0;31mValueError\u001B[0m                                Traceback (most recent call last)",
      "    \u001B[0;31m[... skipping hidden 1 frame]\u001B[0m\n",
      "File \u001B[0;32m~/venvs/VariationalHMM-jax/venv/lib/python3.8/site-packages/jax/_src/util.py:210\u001B[0m, in \u001B[0;36mcache.<locals>.wrap.<locals>.wrapper\u001B[0;34m(*args, **kwargs)\u001B[0m\n\u001B[1;32m    209\u001B[0m \u001B[38;5;28;01melse\u001B[39;00m:\n\u001B[0;32m--> 210\u001B[0m   \u001B[38;5;28;01mreturn\u001B[39;00m \u001B[43mcached\u001B[49m\u001B[43m(\u001B[49m\u001B[43mconfig\u001B[49m\u001B[38;5;241;43m.\u001B[39;49m\u001B[43m_trace_context\u001B[49m\u001B[43m(\u001B[49m\u001B[43m)\u001B[49m\u001B[43m,\u001B[49m\u001B[43m \u001B[49m\u001B[38;5;241;43m*\u001B[39;49m\u001B[43margs\u001B[49m\u001B[43m,\u001B[49m\u001B[43m \u001B[49m\u001B[38;5;241;43m*\u001B[39;49m\u001B[38;5;241;43m*\u001B[39;49m\u001B[43mkwargs\u001B[49m\u001B[43m)\u001B[49m\n",
      "File \u001B[0;32m~/venvs/VariationalHMM-jax/venv/lib/python3.8/site-packages/jax/_src/util.py:203\u001B[0m, in \u001B[0;36mcache.<locals>.wrap.<locals>.cached\u001B[0;34m(_, *args, **kwargs)\u001B[0m\n\u001B[1;32m    201\u001B[0m \u001B[38;5;129m@functools\u001B[39m\u001B[38;5;241m.\u001B[39mlru_cache(max_size)\n\u001B[1;32m    202\u001B[0m \u001B[38;5;28;01mdef\u001B[39;00m \u001B[38;5;21mcached\u001B[39m(_, \u001B[38;5;241m*\u001B[39margs, \u001B[38;5;241m*\u001B[39m\u001B[38;5;241m*\u001B[39mkwargs):\n\u001B[0;32m--> 203\u001B[0m   \u001B[38;5;28;01mreturn\u001B[39;00m \u001B[43mf\u001B[49m\u001B[43m(\u001B[49m\u001B[38;5;241;43m*\u001B[39;49m\u001B[43margs\u001B[49m\u001B[43m,\u001B[49m\u001B[43m \u001B[49m\u001B[38;5;241;43m*\u001B[39;49m\u001B[38;5;241;43m*\u001B[39;49m\u001B[43mkwargs\u001B[49m\u001B[43m)\u001B[49m\n",
      "File \u001B[0;32m~/venvs/VariationalHMM-jax/venv/lib/python3.8/site-packages/jax/_src/lax/lax.py:127\u001B[0m, in \u001B[0;36m_broadcast_shapes_cached\u001B[0;34m(*shapes)\u001B[0m\n\u001B[1;32m    125\u001B[0m \u001B[38;5;129m@cache\u001B[39m()\n\u001B[1;32m    126\u001B[0m \u001B[38;5;28;01mdef\u001B[39;00m \u001B[38;5;21m_broadcast_shapes_cached\u001B[39m(\u001B[38;5;241m*\u001B[39mshapes: Tuple[\u001B[38;5;28mint\u001B[39m, \u001B[38;5;241m.\u001B[39m\u001B[38;5;241m.\u001B[39m\u001B[38;5;241m.\u001B[39m]) \u001B[38;5;241m-\u001B[39m\u001B[38;5;241m>\u001B[39m Tuple[\u001B[38;5;28mint\u001B[39m, \u001B[38;5;241m.\u001B[39m\u001B[38;5;241m.\u001B[39m\u001B[38;5;241m.\u001B[39m]:\n\u001B[0;32m--> 127\u001B[0m   \u001B[38;5;28;01mreturn\u001B[39;00m \u001B[43m_broadcast_shapes_uncached\u001B[49m\u001B[43m(\u001B[49m\u001B[38;5;241;43m*\u001B[39;49m\u001B[43mshapes\u001B[49m\u001B[43m)\u001B[49m\n",
      "File \u001B[0;32m~/venvs/VariationalHMM-jax/venv/lib/python3.8/site-packages/jax/_src/lax/lax.py:143\u001B[0m, in \u001B[0;36m_broadcast_shapes_uncached\u001B[0;34m(*shapes)\u001B[0m\n\u001B[1;32m    142\u001B[0m \u001B[38;5;28;01mif\u001B[39;00m result_shape \u001B[38;5;129;01mis\u001B[39;00m \u001B[38;5;28;01mNone\u001B[39;00m:\n\u001B[0;32m--> 143\u001B[0m   \u001B[38;5;28;01mraise\u001B[39;00m \u001B[38;5;167;01mValueError\u001B[39;00m(\u001B[38;5;124m\"\u001B[39m\u001B[38;5;124mIncompatible shapes for broadcasting: \u001B[39m\u001B[38;5;132;01m{}\u001B[39;00m\u001B[38;5;124m\"\u001B[39m\n\u001B[1;32m    144\u001B[0m                    \u001B[38;5;241m.\u001B[39mformat(\u001B[38;5;28mtuple\u001B[39m(shape_list)))\n\u001B[1;32m    145\u001B[0m \u001B[38;5;28;01mreturn\u001B[39;00m result_shape\n",
      "\u001B[0;31mValueError\u001B[0m: Incompatible shapes for broadcasting: ((1, 100, 10, 2), (100, 10, 2, 1))",
      "\nDuring handling of the above exception, another exception occurred:\n",
      "\u001B[0;31mValueError\u001B[0m                                Traceback (most recent call last)",
      "Input \u001B[0;32mIn [38]\u001B[0m, in \u001B[0;36m<cell line: 1>\u001B[0;34m()\u001B[0m\n\u001B[0;32m----> 1\u001B[0m \u001B[43mmodel\u001B[49m\u001B[38;5;241;43m.\u001B[39;49m\u001B[43mfit\u001B[49m\u001B[43m(\u001B[49m\u001B[43mjnp\u001B[49m\u001B[38;5;241;43m.\u001B[39;49m\u001B[43marray\u001B[49m\u001B[43m(\u001B[49m\u001B[43mobs\u001B[49m\u001B[43m)\u001B[49m\u001B[43m)\u001B[49m\n",
      "File \u001B[0;32m~/venvs/VariationalHMM-jax/model/poisson_vhmm.py:46\u001B[0m, in \u001B[0;36mPoissonVHMM.fit\u001B[0;34m(self, obs)\u001B[0m\n\u001B[1;32m     43\u001B[0m \u001B[38;5;28;01mdef\u001B[39;00m \u001B[38;5;21mfit\u001B[39m(\u001B[38;5;28mself\u001B[39m, obs):\n\u001B[1;32m     45\u001B[0m     \u001B[38;5;28;01mfor\u001B[39;00m i \u001B[38;5;129;01min\u001B[39;00m \u001B[38;5;28mrange\u001B[39m(\u001B[38;5;28mself\u001B[39m\u001B[38;5;241m.\u001B[39miter_max):\n\u001B[0;32m---> 46\u001B[0m         gamma, xi \u001B[38;5;241m=\u001B[39m \u001B[38;5;28;43mself\u001B[39;49m\u001B[38;5;241;43m.\u001B[39;49m\u001B[43me_step\u001B[49m\u001B[43m(\u001B[49m\u001B[43mobs\u001B[49m\u001B[43m)\u001B[49m\n\u001B[1;32m     47\u001B[0m         \u001B[38;5;28mself\u001B[39m\u001B[38;5;241m.\u001B[39mmaximize_transitions(gamma, xi)\n\u001B[1;32m     48\u001B[0m         \u001B[38;5;28mself\u001B[39m\u001B[38;5;241m.\u001B[39mmaximize_observations(obs, gamma)\n",
      "File \u001B[0;32m~/venvs/VariationalHMM-jax/model/vhmm_base.py:149\u001B[0m, in \u001B[0;36mHMMBase.e_step\u001B[0;34m(self, obs)\u001B[0m\n\u001B[1;32m    148\u001B[0m \u001B[38;5;28;01mdef\u001B[39;00m \u001B[38;5;21me_step\u001B[39m(\u001B[38;5;28mself\u001B[39m, obs):\n\u001B[0;32m--> 149\u001B[0m     obs_log_probs \u001B[38;5;241m=\u001B[39m \u001B[38;5;28;43mself\u001B[39;49m\u001B[38;5;241;43m.\u001B[39;49m\u001B[43mobs_log_prob\u001B[49m\u001B[43m(\u001B[49m\u001B[43mobs\u001B[49m\u001B[43m)\u001B[49m\n\u001B[1;32m    150\u001B[0m     trans_log_prob \u001B[38;5;241m=\u001B[39m \u001B[38;5;28mself\u001B[39m\u001B[38;5;241m.\u001B[39mtrans_log_prob()\n\u001B[1;32m    151\u001B[0m     initial_log_prob \u001B[38;5;241m=\u001B[39m \u001B[38;5;28mself\u001B[39m\u001B[38;5;241m.\u001B[39minitial_log_prob()\n",
      "File \u001B[0;32m~/venvs/VariationalHMM-jax/model/poisson_vhmm.py:31\u001B[0m, in \u001B[0;36mPoissonVHMM.obs_log_prob\u001B[0;34m(self, obs)\u001B[0m\n\u001B[1;32m     30\u001B[0m \u001B[38;5;28;01mdef\u001B[39;00m \u001B[38;5;21mobs_log_prob\u001B[39m(\u001B[38;5;28mself\u001B[39m, obs):\n\u001B[0;32m---> 31\u001B[0m     \u001B[38;5;28;01mreturn\u001B[39;00m \u001B[38;5;28;43mself\u001B[39;49m\u001B[38;5;241;43m.\u001B[39;49m\u001B[43m_obs_log_prob\u001B[49m\u001B[43m(\u001B[49m\u001B[43mobs\u001B[49m\u001B[43m,\u001B[49m\u001B[43m \u001B[49m\u001B[38;5;28;43mself\u001B[39;49m\u001B[38;5;241;43m.\u001B[39;49m\u001B[43mpoisson_posterior_a\u001B[49m\u001B[43m,\u001B[49m\u001B[43m \u001B[49m\u001B[38;5;28;43mself\u001B[39;49m\u001B[38;5;241;43m.\u001B[39;49m\u001B[43mpoisson_posterior_b\u001B[49m\u001B[43m)\u001B[49m\n",
      "    \u001B[0;31m[... skipping hidden 14 frame]\u001B[0m\n",
      "File \u001B[0;32m~/venvs/VariationalHMM-jax/model/poisson_vhmm.py:28\u001B[0m, in \u001B[0;36mPoissonVHMM._obs_log_prob\u001B[0;34m(obs, poisson_posterior_a, poisson_posterior_b)\u001B[0m\n\u001B[1;32m     26\u001B[0m term2 \u001B[38;5;241m=\u001B[39m \u001B[38;5;241m-\u001B[39m (poisson_posterior_a \u001B[38;5;241m/\u001B[39m poisson_posterior_b)[jnp\u001B[38;5;241m.\u001B[39mnewaxis, jnp\u001B[38;5;241m.\u001B[39mnewaxis]\n\u001B[1;32m     27\u001B[0m term3 \u001B[38;5;241m=\u001B[39m \u001B[38;5;241m-\u001B[39m gammaln(obs)[\u001B[38;5;241m.\u001B[39m\u001B[38;5;241m.\u001B[39m\u001B[38;5;241m.\u001B[39m, jnp\u001B[38;5;241m.\u001B[39mnewaxis]\n\u001B[0;32m---> 28\u001B[0m \u001B[38;5;28;01mreturn\u001B[39;00m \u001B[43mterm1\u001B[49m\u001B[43m \u001B[49m\u001B[38;5;241;43m+\u001B[39;49m\u001B[43m \u001B[49m\u001B[43mterm2\u001B[49m\u001B[43m \u001B[49m\u001B[38;5;241;43m+\u001B[39;49m\u001B[43m \u001B[49m\u001B[43mterm3\u001B[49m\n",
      "    \u001B[0;31m[... skipping hidden 1 frame]\u001B[0m\n",
      "File \u001B[0;32m~/venvs/VariationalHMM-jax/venv/lib/python3.8/site-packages/jax/_src/numpy/lax_numpy.py:5252\u001B[0m, in \u001B[0;36m_defer_to_unrecognized_arg.<locals>.deferring_binary_op\u001B[0;34m(self, other)\u001B[0m\n\u001B[1;32m   5250\u001B[0m \u001B[38;5;28;01mif\u001B[39;00m \u001B[38;5;129;01mnot\u001B[39;00m \u001B[38;5;28misinstance\u001B[39m(other, _accepted_binop_types):\n\u001B[1;32m   5251\u001B[0m   \u001B[38;5;28;01mreturn\u001B[39;00m \u001B[38;5;28mNotImplemented\u001B[39m\n\u001B[0;32m-> 5252\u001B[0m \u001B[38;5;28;01mreturn\u001B[39;00m \u001B[43mbinary_op\u001B[49m\u001B[43m(\u001B[49m\u001B[38;5;28;43mself\u001B[39;49m\u001B[43m,\u001B[49m\u001B[43m \u001B[49m\u001B[43mother\u001B[49m\u001B[43m)\u001B[49m\n",
      "    \u001B[0;31m[... skipping hidden 7 frame]\u001B[0m\n",
      "File \u001B[0;32m~/venvs/VariationalHMM-jax/venv/lib/python3.8/site-packages/jax/_src/numpy/ufuncs.py:86\u001B[0m, in \u001B[0;36m_maybe_bool_binop.<locals>.fn\u001B[0;34m(x1, x2)\u001B[0m\n\u001B[1;32m     85\u001B[0m \u001B[38;5;28;01mdef\u001B[39;00m \u001B[38;5;21mfn\u001B[39m(x1, x2):\n\u001B[0;32m---> 86\u001B[0m   x1, x2 \u001B[38;5;241m=\u001B[39m \u001B[43m_promote_args\u001B[49m\u001B[43m(\u001B[49m\u001B[43mnumpy_fn\u001B[49m\u001B[38;5;241;43m.\u001B[39;49m\u001B[38;5;18;43m__name__\u001B[39;49m\u001B[43m,\u001B[49m\u001B[43m \u001B[49m\u001B[43mx1\u001B[49m\u001B[43m,\u001B[49m\u001B[43m \u001B[49m\u001B[43mx2\u001B[49m\u001B[43m)\u001B[49m\n\u001B[1;32m     87\u001B[0m   \u001B[38;5;28;01mreturn\u001B[39;00m lax_fn(x1, x2) \u001B[38;5;28;01mif\u001B[39;00m x1\u001B[38;5;241m.\u001B[39mdtype \u001B[38;5;241m!=\u001B[39m np\u001B[38;5;241m.\u001B[39mbool_ \u001B[38;5;28;01melse\u001B[39;00m bool_lax_fn(x1, x2)\n",
      "File \u001B[0;32m~/venvs/VariationalHMM-jax/venv/lib/python3.8/site-packages/jax/_src/numpy/util.py:315\u001B[0m, in \u001B[0;36m_promote_args\u001B[0;34m(fun_name, *args)\u001B[0m\n\u001B[1;32m    313\u001B[0m _check_arraylike(fun_name, \u001B[38;5;241m*\u001B[39margs)\n\u001B[1;32m    314\u001B[0m _check_no_float0s(fun_name, \u001B[38;5;241m*\u001B[39margs)\n\u001B[0;32m--> 315\u001B[0m \u001B[38;5;28;01mreturn\u001B[39;00m \u001B[43m_promote_shapes\u001B[49m\u001B[43m(\u001B[49m\u001B[43mfun_name\u001B[49m\u001B[43m,\u001B[49m\u001B[43m \u001B[49m\u001B[38;5;241;43m*\u001B[39;49m\u001B[43m_promote_dtypes\u001B[49m\u001B[43m(\u001B[49m\u001B[38;5;241;43m*\u001B[39;49m\u001B[43margs\u001B[49m\u001B[43m)\u001B[49m\u001B[43m)\u001B[49m\n",
      "File \u001B[0;32m~/venvs/VariationalHMM-jax/venv/lib/python3.8/site-packages/jax/_src/numpy/util.py:224\u001B[0m, in \u001B[0;36m_promote_shapes\u001B[0;34m(fun_name, *args)\u001B[0m\n\u001B[1;32m    222\u001B[0m   \u001B[38;5;28;01mreturn\u001B[39;00m [_broadcast_to(arg, res_shape) \u001B[38;5;28;01mfor\u001B[39;00m arg, shp \u001B[38;5;129;01min\u001B[39;00m \u001B[38;5;28mzip\u001B[39m(args, shapes)]\n\u001B[1;32m    223\u001B[0m \u001B[38;5;28;01melse\u001B[39;00m:\n\u001B[0;32m--> 224\u001B[0m   result_rank \u001B[38;5;241m=\u001B[39m \u001B[38;5;28mlen\u001B[39m(\u001B[43mlax\u001B[49m\u001B[38;5;241;43m.\u001B[39;49m\u001B[43mbroadcast_shapes\u001B[49m\u001B[43m(\u001B[49m\u001B[38;5;241;43m*\u001B[39;49m\u001B[43mshapes\u001B[49m\u001B[43m)\u001B[49m)\n\u001B[1;32m    225\u001B[0m   \u001B[38;5;28;01mreturn\u001B[39;00m [_broadcast_to(arg, (\u001B[38;5;241m1\u001B[39m,) \u001B[38;5;241m*\u001B[39m (result_rank \u001B[38;5;241m-\u001B[39m \u001B[38;5;28mlen\u001B[39m(shp)) \u001B[38;5;241m+\u001B[39m shp)\n\u001B[1;32m    226\u001B[0m           \u001B[38;5;28;01mfor\u001B[39;00m arg, shp \u001B[38;5;129;01min\u001B[39;00m \u001B[38;5;28mzip\u001B[39m(args, shapes)]\n",
      "    \u001B[0;31m[... skipping hidden 1 frame]\u001B[0m\n",
      "File \u001B[0;32m~/venvs/VariationalHMM-jax/venv/lib/python3.8/site-packages/jax/_src/lax/lax.py:143\u001B[0m, in \u001B[0;36m_broadcast_shapes_uncached\u001B[0;34m(*shapes)\u001B[0m\n\u001B[1;32m    141\u001B[0m result_shape \u001B[38;5;241m=\u001B[39m _try_broadcast_shapes(shape_list)\n\u001B[1;32m    142\u001B[0m \u001B[38;5;28;01mif\u001B[39;00m result_shape \u001B[38;5;129;01mis\u001B[39;00m \u001B[38;5;28;01mNone\u001B[39;00m:\n\u001B[0;32m--> 143\u001B[0m   \u001B[38;5;28;01mraise\u001B[39;00m \u001B[38;5;167;01mValueError\u001B[39;00m(\u001B[38;5;124m\"\u001B[39m\u001B[38;5;124mIncompatible shapes for broadcasting: \u001B[39m\u001B[38;5;132;01m{}\u001B[39;00m\u001B[38;5;124m\"\u001B[39m\n\u001B[1;32m    144\u001B[0m                    \u001B[38;5;241m.\u001B[39mformat(\u001B[38;5;28mtuple\u001B[39m(shape_list)))\n\u001B[1;32m    145\u001B[0m \u001B[38;5;28;01mreturn\u001B[39;00m result_shape\n",
      "\u001B[0;31mValueError\u001B[0m: Incompatible shapes for broadcasting: ((1, 100, 10, 2), (100, 10, 2, 1))"
     ]
    }
   ],
   "source": [
    "model.fit(jnp.array(obs))"
   ],
   "metadata": {
    "collapsed": false,
    "pycharm": {
     "name": "#%%\n"
    }
   }
  },
  {
   "cell_type": "code",
   "execution_count": null,
   "outputs": [],
   "source": [],
   "metadata": {
    "collapsed": false,
    "pycharm": {
     "name": "#%%\n"
    }
   }
  }
 ],
 "metadata": {
  "kernelspec": {
   "display_name": "Python 3",
   "language": "python",
   "name": "python3"
  },
  "language_info": {
   "codemirror_mode": {
    "name": "ipython",
    "version": 2
   },
   "file_extension": ".py",
   "mimetype": "text/x-python",
   "name": "python",
   "nbconvert_exporter": "python",
   "pygments_lexer": "ipython2",
   "version": "2.7.6"
  }
 },
 "nbformat": 4,
 "nbformat_minor": 0
}