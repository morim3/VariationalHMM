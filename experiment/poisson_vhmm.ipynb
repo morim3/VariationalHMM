{
 "cells": [
  {
   "cell_type": "code",
   "execution_count": 220,
   "metadata": {
    "collapsed": true
   },
   "outputs": [
    {
     "name": "stdout",
     "output_type": "stream",
     "text": [
      "The autoreload extension is already loaded. To reload it, use:\n",
      "  %reload_ext autoreload\n"
     ]
    }
   ],
   "source": [
    "from model.poisson_vhmm import PoissonVHMM\n",
    "import jax\n",
    "from numpy.random import gamma, poisson\n",
    "import numpy as np\n",
    "\n",
    "%load_ext autoreload\n",
    "%autoreload 2"
   ]
  },
  {
   "cell_type": "code",
   "execution_count": 213,
   "outputs": [],
   "source": [
    "### generate test data\n",
    "\n",
    "cluster_num = 2\n",
    "batch = 100\n",
    "time = 100\n",
    "\n",
    "pi_dirichlet = 5. * np.ones(cluster_num)\n",
    "A_dirichlet = 10. * np.eye(cluster_num) + 1.0 * np.ones((cluster_num, cluster_num))\n",
    "\n",
    "pi = np.random.dirichlet(pi_dirichlet)\n",
    "A = np.array([np.random.dirichlet(A_dirichlet[i]) for i in range(cluster_num)])\n",
    "\n",
    "lam_gamma_a = 3.\n",
    "lam_gamma_b = 0.01\n",
    "\n",
    "lam = np.random.gamma(lam_gamma_a, 1/lam_gamma_b, size=cluster_num)\n",
    "\n",
    "state = np.zeros((time, batch), dtype=np.int16)\n",
    "for i in range(time):\n",
    "    if i == 0:\n",
    "        state[0] = np.random.multinomial(n=1, pvals=pi, size=state[0].shape).argmax(-1)\n",
    "    else:\n",
    "        for b in range(batch):\n",
    "            state[i][b] = np.random.multinomial(n=1, pvals=A[state[i-1][b]], size=1).argmax(-1)\n",
    "\n",
    "obs = np.zeros((time, batch))\n",
    "for i in range(time):\n",
    "    for b in range(batch):\n",
    "        obs[i][b] = np.random.poisson(lam[state[i][b]])\n"
   ],
   "metadata": {
    "collapsed": false,
    "pycharm": {
     "name": "#%%\n"
    }
   }
  },
  {
   "cell_type": "code",
   "execution_count": 214,
   "outputs": [
    {
     "name": "stdout",
     "output_type": "stream",
     "text": [
      "[[0.88445986 0.11554014]\n",
      " [0.00844778 0.99155222]]\n",
      "[0.45222933 0.54777067]\n"
     ]
    }
   ],
   "source": [
    "print(A)\n",
    "print(pi)"
   ],
   "metadata": {
    "collapsed": false,
    "pycharm": {
     "name": "#%%\n"
    }
   }
  },
  {
   "cell_type": "code",
   "execution_count": 221,
   "outputs": [
    {
     "data": {
      "text/plain": "[<matplotlib.lines.Line2D at 0x7f7cd5a96fd0>]"
     },
     "execution_count": 221,
     "metadata": {},
     "output_type": "execute_result"
    },
    {
     "data": {
      "text/plain": "<Figure size 432x288 with 2 Axes>",
      "image/png": "[encoded data removed]"
     },
     "metadata": {
      "needs_background": "light"
     },
     "output_type": "display_data"
    }
   ],
   "source": [
    "import matplotlib.pyplot as plt\n",
    "\n",
    "plt.subplot(2, 1, 1)\n",
    "plt.plot(state[:, 0])\n",
    "plt.subplot(2, 1, 2)\n",
    "plt.plot(obs[:, 0])\n"
   ],
   "metadata": {
    "collapsed": false,
    "pycharm": {
     "name": "#%%\n"
    }
   }
  },
  {
   "cell_type": "code",
   "execution_count": 222,
   "outputs": [
    {
     "name": "stdout",
     "output_type": "stream",
     "text": [
      "-81069.97\n",
      "-17849.918\n",
      "-17888.125\n",
      "-17888.125\n",
      "-17888.125\n",
      "-17888.125\n",
      "-17888.125\n",
      "-17888.125\n",
      "-17888.125\n",
      "-17888.125\n",
      "-17888.125\n",
      "-17888.125\n",
      "-17888.125\n",
      "-17888.125\n",
      "-17888.125\n",
      "-17888.125\n",
      "-17888.125\n",
      "-17888.125\n",
      "-17888.125\n",
      "-17888.125\n",
      "-17888.125\n",
      "-17888.125\n",
      "-17888.125\n",
      "-17888.125\n",
      "-17888.125\n",
      "-17888.125\n",
      "-17888.125\n",
      "-17888.125\n",
      "-17888.125\n",
      "-17888.125\n",
      "-17888.125\n",
      "-17888.125\n",
      "-17888.125\n",
      "-17888.125\n",
      "-17888.125\n",
      "-17888.125\n",
      "-17888.125\n",
      "-17888.125\n",
      "-17888.125\n",
      "-17888.125\n",
      "-17888.125\n",
      "-17888.125\n",
      "-17888.125\n",
      "-17888.125\n",
      "-17888.125\n",
      "-17888.125\n",
      "-17888.125\n",
      "-17888.125\n",
      "-17888.125\n",
      "-17888.125\n",
      "-17888.125\n",
      "-17888.125\n",
      "-17888.125\n",
      "-17888.125\n",
      "-17888.125\n",
      "-17888.125\n",
      "-17888.125\n",
      "-17888.125\n",
      "-17888.125\n",
      "-17888.125\n",
      "-17888.125\n",
      "-17888.125\n",
      "-17888.125\n",
      "-17888.125\n",
      "-17888.125\n",
      "-17888.125\n",
      "-17888.125\n",
      "-17888.125\n",
      "-17888.125\n",
      "-17888.125\n",
      "-17888.125\n",
      "-17888.125\n",
      "-17888.125\n",
      "-17888.125\n",
      "-17888.125\n",
      "-17888.125\n",
      "-17888.125\n",
      "-17888.125\n",
      "-17888.125\n",
      "-17888.125\n",
      "-17888.125\n",
      "-17888.125\n",
      "-17888.125\n",
      "-17888.125\n",
      "-17888.125\n",
      "-17888.125\n",
      "-17888.125\n",
      "-17888.125\n",
      "-17888.125\n",
      "-17888.125\n",
      "-17888.125\n",
      "-17888.125\n",
      "-17888.125\n",
      "-17888.125\n",
      "-17888.125\n",
      "-17888.125\n",
      "-17888.125\n",
      "-17888.125\n",
      "-17888.125\n",
      "-17888.125\n"
     ]
    },
    {
     "data": {
      "text/plain": "[<matplotlib.lines.Line2D at 0x7f7cd59e2ca0>]"
     },
     "execution_count": 222,
     "metadata": {},
     "output_type": "execute_result"
    },
    {
     "data": {
      "text/plain": "<Figure size 432x288 with 3 Axes>",
      "image/png": "[encoded data removed]"
     },
     "metadata": {
      "needs_background": "light"
     },
     "output_type": "display_data"
    }
   ],
   "source": [
    "import jax.numpy as jnp\n",
    "cluster_num = 2\n",
    "model = PoissonVHMM(cluster_num,\n",
    "                    init_state_prior=jnp.array([10., 10.]),\n",
    "                    transition_prior=100.*jnp.eye(cluster_num) +  1.0 * jnp.ones((cluster_num, cluster_num)),\n",
    "                    poisson_prior=np.array([3., 0.01]))\n",
    "\n",
    "gamma, viterbi, elbo = model.fit(jnp.array(obs))\n",
    "\n",
    "plt.subplot(3, 1, 1)\n",
    "plt.plot(state[:, 0])\n",
    "plt.subplot(3, 1, 2)\n",
    "plt.plot(obs[:, 0])\n",
    "plt.subplot(3, 1, 3)\n",
    "plt.plot(viterbi[:, 0])"
   ],
   "metadata": {
    "collapsed": false,
    "pycharm": {
     "name": "#%%\n"
    }
   }
  },
  {
   "cell_type": "code",
   "execution_count": 223,
   "outputs": [
    {
     "name": "stdout",
     "output_type": "stream",
     "text": [
      "[3.0333734 3.3037102 3.370707 ]\n",
      "-85952.08\n",
      "-31117.682\n",
      "-31172.29\n",
      "-31171.422\n",
      "-31170.744\n",
      "-31169.523\n",
      "-31169.105\n",
      "-31168.32\n",
      "-31167.758\n",
      "-31167.217\n",
      "-31166.871\n",
      "-31166.326\n",
      "-31165.91\n",
      "-31165.387\n",
      "-31165.062\n",
      "-31164.95\n",
      "-31164.625\n",
      "-31164.344\n",
      "-31163.783\n",
      "-31163.836\n",
      "-31163.652\n",
      "-31163.652\n",
      "-31163.14\n",
      "-31163.238\n",
      "-31163.074\n",
      "-31162.64\n",
      "-31162.734\n",
      "-31162.77\n",
      "-31162.607\n",
      "-31162.543\n",
      "-31162.555\n",
      "-31162.402\n",
      "-31162.326\n",
      "-31162.084\n",
      "-31162.281\n",
      "-31162.312\n",
      "-31162.188\n",
      "-31162.04\n",
      "-31161.926\n",
      "-31161.902\n",
      "-31161.889\n",
      "-31162.008\n",
      "-31161.82\n",
      "-31161.746\n",
      "-31161.727\n",
      "-31161.896\n",
      "-31161.91\n",
      "-31161.562\n",
      "-31161.844\n",
      "-31161.59\n",
      "-31161.855\n",
      "-31161.61\n",
      "-31161.46\n",
      "-31161.668\n",
      "-31161.854\n",
      "-31161.848\n",
      "-31161.61\n",
      "-31161.441\n",
      "-31161.691\n",
      "-31161.652\n",
      "-31161.682\n",
      "-31161.715\n",
      "-31161.543\n",
      "-31161.652\n",
      "-31161.824\n",
      "-31161.793\n",
      "-31161.613\n",
      "-31161.613\n",
      "-31161.703\n",
      "-31161.773\n",
      "-31161.596\n",
      "-31161.445\n",
      "-31161.777\n",
      "-31161.564\n",
      "-31161.525\n",
      "-31161.676\n",
      "-31161.557\n",
      "-31161.71\n",
      "-31161.535\n",
      "-31161.7\n",
      "-31161.426\n",
      "-31161.73\n",
      "-31161.637\n",
      "-31161.422\n",
      "-31161.594\n",
      "-31161.492\n",
      "-31161.55\n",
      "-31161.568\n",
      "-31161.492\n",
      "-31161.605\n",
      "-31161.773\n",
      "-31161.695\n",
      "-31161.559\n",
      "-31161.629\n",
      "-31161.45\n",
      "-31161.484\n",
      "-31161.898\n",
      "-31161.438\n",
      "-31161.64\n",
      "-31161.64\n"
     ]
    },
    {
     "data": {
      "text/plain": "[<matplotlib.lines.Line2D at 0x7f7cd58e4610>]"
     },
     "execution_count": 223,
     "metadata": {},
     "output_type": "execute_result"
    },
    {
     "data": {
      "text/plain": "<Figure size 432x288 with 3 Axes>",
      "image/png": "[encoded data removed]"
     },
     "metadata": {
      "needs_background": "light"
     },
     "output_type": "display_data"
    }
   ],
   "source": [
    "import jax.numpy as jnp\n",
    "cluster_num = 3\n",
    "model = PoissonVHMM(cluster_num,\n",
    "                    init_state_prior=10.*jnp.ones(cluster_num),\n",
    "                    transition_prior=100.*jnp.eye(cluster_num) +  1.0 * np.ones((cluster_num, cluster_num)),\n",
    "                    poisson_prior=jnp.array([3., 0.01]))\n",
    "print(model.poisson_posterior_a)\n",
    "gamma, viterbi, elbo = model.fit(jnp.array(obs))\n",
    "\n",
    "plt.subplot(3, 1, 1)\n",
    "plt.plot(state[:, 0])\n",
    "plt.subplot(3, 1, 2)\n",
    "plt.plot(obs[:, 0])\n",
    "plt.subplot(3, 1, 3)\n",
    "plt.plot(viterbi[:, 0])\n"
   ],
   "metadata": {
    "collapsed": false,
    "pycharm": {
     "name": "#%%\n"
    }
   }
  },
  {
   "cell_type": "code",
   "execution_count": 182,
   "outputs": [],
   "source": [],
   "metadata": {
    "collapsed": false,
    "pycharm": {
     "name": "#%%\n"
    }
   }
  },
  {
   "cell_type": "code",
   "execution_count": 183,
   "outputs": [
    {
     "name": "stdout",
     "output_type": "stream",
     "text": [
      "(100, 100)\n"
     ]
    }
   ],
   "source": [
    "print(obs.shape)"
   ],
   "metadata": {
    "collapsed": false,
    "pycharm": {
     "name": "#%%\n"
    }
   }
  },
  {
   "cell_type": "code",
   "execution_count": 183,
   "outputs": [],
   "source": [],
   "metadata": {
    "collapsed": false,
    "pycharm": {
     "name": "#%%\n"
    }
   }
  }
 ],
 "metadata": {
  "kernelspec": {
   "display_name": "Python 3",
   "language": "python",
   "name": "python3"
  },
  "language_info": {
   "codemirror_mode": {
    "name": "ipython",
    "version": 2
   },
   "file_extension": ".py",
   "mimetype": "text/x-python",
   "name": "python",
   "nbconvert_exporter": "python",
   "pygments_lexer": "ipython2",
   "version": "2.7.6"
  }
 },
 "nbformat": 4,
 "nbformat_minor": 0
}