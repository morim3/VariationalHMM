{
 "cells": [
  {
   "cell_type": "code",
   "execution_count": 269,
   "metadata": {
    "collapsed": true
   },
   "outputs": [
    {
     "name": "stdout",
     "output_type": "stream",
     "text": [
      "The autoreload extension is already loaded. To reload it, use:\n",
      "  %reload_ext autoreload\n"
     ]
    }
   ],
   "source": [
    "from model.poisson_vhmm import PoissonVHMM\n",
    "import jax\n",
    "from numpy.random import gamma, poisson\n",
    "import numpy as np\n",
    "\n",
    "%load_ext autoreload\n",
    "%autoreload 2"
   ]
  },
  {
   "cell_type": "code",
   "execution_count": 263,
   "outputs": [],
   "source": [
    "### generate test data\n",
    "\n",
    "cluster_num = 2\n",
    "batch = 10\n",
    "time = 100\n",
    "\n",
    "pi_dirichlet = 5. * np.ones(cluster_num)\n",
    "A_dirichlet = 10. * np.eye(cluster_num) + 1.0 * np.ones((cluster_num, cluster_num))\n",
    "\n",
    "pi = np.random.dirichlet(pi_dirichlet)\n",
    "A = np.array([np.random.dirichlet(A_dirichlet[i]) for i in range(cluster_num)])\n",
    "\n",
    "lam_gamma_a = 3.\n",
    "lam_gamma_b = 0.01\n",
    "\n",
    "lam = np.random.gamma(lam_gamma_a, 1/lam_gamma_b, size=cluster_num)\n",
    "\n",
    "state = np.zeros((time, batch), dtype=np.int16)\n",
    "for i in range(time):\n",
    "    if i == 0:\n",
    "        state[0] = np.random.multinomial(n=1, pvals=pi, size=state[0].shape).argmax(-1)\n",
    "    else:\n",
    "        for b in range(batch):\n",
    "            state[i][b] = np.random.multinomial(n=1, pvals=A[state[i-1][b]], size=1).argmax(-1)\n",
    "\n",
    "obs = np.zeros((time, batch, cluster_num))\n",
    "for i in range(time):\n",
    "    for b in range(batch):\n",
    "        obs[i][b] = np.random.poisson(lam[state[i][b]])\n"
   ],
   "metadata": {
    "collapsed": false,
    "pycharm": {
     "name": "#%%\n"
    }
   }
  },
  {
   "cell_type": "code",
   "execution_count": 264,
   "outputs": [
    {
     "name": "stdout",
     "output_type": "stream",
     "text": [
      "[[0.89325287 0.10674713]\n",
      " [0.05561389 0.94438611]]\n",
      "[0.54383551 0.45616449]\n"
     ]
    }
   ],
   "source": [
    "print(A)\n",
    "print(pi)"
   ],
   "metadata": {
    "collapsed": false,
    "pycharm": {
     "name": "#%%\n"
    }
   }
  },
  {
   "cell_type": "code",
   "execution_count": 265,
   "outputs": [
    {
     "data": {
      "text/plain": "[<matplotlib.lines.Line2D at 0x7f5729fc7370>,\n <matplotlib.lines.Line2D at 0x7f5729fc73d0>]"
     },
     "execution_count": 265,
     "metadata": {},
     "output_type": "execute_result"
    },
    {
     "data": {
      "text/plain": "<Figure size 432x288 with 2 Axes>",
      "image/png": "[encoded data removed]"
     },
     "metadata": {
      "needs_background": "light"
     },
     "output_type": "display_data"
    }
   ],
   "source": [
    "import matplotlib.pyplot as plt\n",
    "\n",
    "plt.subplot(2, 1, 1)\n",
    "plt.plot(state[:, 0])\n",
    "plt.subplot(2, 1, 2)\n",
    "plt.plot(obs[:, 0])\n"
   ],
   "metadata": {
    "collapsed": false,
    "pycharm": {
     "name": "#%%\n"
    }
   }
  },
  {
   "cell_type": "code",
   "execution_count": 274,
   "outputs": [],
   "source": [
    "import jax.numpy as jnp\n",
    "cluster_num = 2\n",
    "model = PoissonVHMM(cluster_num,\n",
    "                    init_state_prior=jnp.array([1., 1.1]),\n",
    "                    transition_prior=10*jnp.eye(cluster_num) +  1.0 * np.ones((cluster_num, cluster_num)),\n",
    "                    poisson_prior=jnp.array([3., 0.01]))"
   ],
   "metadata": {
    "collapsed": false,
    "pycharm": {
     "name": "#%%\n"
    }
   }
  },
  {
   "cell_type": "code",
   "execution_count": 275,
   "outputs": [
    {
     "name": "stdout",
     "output_type": "stream",
     "text": [
      "-48794.348\n",
      "-15056.157\n",
      "-82412.07\n",
      "-97063.266\n",
      "-97044.31\n",
      "-97044.3\n",
      "-97044.3\n",
      "-97044.3\n",
      "-97044.3\n",
      "-97044.3\n",
      "-97044.3\n",
      "-97044.3\n",
      "-97044.3\n",
      "-97044.3\n",
      "-97044.3\n",
      "-97044.3\n",
      "-97044.3\n",
      "-97044.3\n",
      "-97044.3\n",
      "-97044.3\n",
      "-97044.3\n",
      "-97044.3\n",
      "-97044.3\n",
      "-97044.3\n",
      "-97044.3\n",
      "-97044.3\n",
      "-97044.3\n",
      "-97044.3\n",
      "-97044.3\n",
      "-97044.3\n",
      "-97044.3\n",
      "-97044.3\n",
      "-97044.3\n",
      "-97044.3\n",
      "-97044.3\n",
      "-97044.3\n",
      "-97044.3\n",
      "-97044.3\n",
      "-97044.3\n",
      "-97044.3\n",
      "-97044.3\n",
      "-97044.3\n",
      "-97044.3\n",
      "-97044.3\n",
      "-97044.3\n",
      "-97044.3\n",
      "-97044.3\n",
      "-97044.3\n",
      "-97044.3\n",
      "-97044.3\n",
      "-97044.3\n",
      "-97044.3\n",
      "-97044.3\n",
      "-97044.3\n",
      "-97044.3\n",
      "-97044.3\n",
      "-97044.3\n",
      "-97044.3\n",
      "-97044.3\n",
      "-97044.3\n",
      "-97044.3\n",
      "-97044.3\n",
      "-97044.3\n",
      "-97044.3\n",
      "-97044.3\n",
      "-97044.3\n",
      "-97044.3\n",
      "-97044.3\n",
      "-97044.3\n",
      "-97044.3\n",
      "-97044.3\n",
      "-97044.3\n",
      "-97044.3\n",
      "-97044.3\n",
      "-97044.3\n",
      "-97044.3\n",
      "-97044.3\n",
      "-97044.3\n",
      "-97044.3\n",
      "-97044.3\n",
      "-97044.3\n",
      "-97044.3\n",
      "-97044.3\n",
      "-97044.3\n",
      "-97044.3\n",
      "-97044.3\n",
      "-97044.3\n",
      "-97044.3\n",
      "-97044.3\n",
      "-97044.3\n",
      "-97044.3\n",
      "-97044.3\n",
      "-97044.3\n",
      "-97044.3\n",
      "-97044.3\n",
      "-97044.3\n",
      "-97044.3\n",
      "-97044.3\n",
      "-97044.3\n",
      "-97044.3\n"
     ]
    }
   ],
   "source": [
    "gamma, viterbi = model.fit(jnp.array(obs))"
   ],
   "metadata": {
    "collapsed": false,
    "pycharm": {
     "name": "#%%\n"
    }
   }
  },
  {
   "cell_type": "code",
   "execution_count": 241,
   "outputs": [
    {
     "data": {
      "text/plain": "[<matplotlib.lines.Line2D at 0x7f572a23aa30>]"
     },
     "execution_count": 241,
     "metadata": {},
     "output_type": "execute_result"
    },
    {
     "data": {
      "text/plain": "<Figure size 432x288 with 3 Axes>",
      "image/png": "[encoded data removed]"
     },
     "metadata": {
      "needs_background": "light"
     },
     "output_type": "display_data"
    }
   ],
   "source": [
    "plt.subplot(3, 1, 1)\n",
    "plt.plot(state[:, 0])\n",
    "plt.subplot(3, 1, 2)\n",
    "plt.plot(obs[:, 0])\n",
    "plt.subplot(3, 1, 3)\n",
    "plt.plot(viterbi[:, 0])"
   ],
   "metadata": {
    "collapsed": false,
    "pycharm": {
     "name": "#%%\n"
    }
   }
  },
  {
   "cell_type": "code",
   "execution_count": 171,
   "outputs": [
    {
     "name": "stdout",
     "output_type": "stream",
     "text": [
      "None\n"
     ]
    }
   ],
   "source": [],
   "metadata": {
    "collapsed": false,
    "pycharm": {
     "name": "#%%\n"
    }
   }
  },
  {
   "cell_type": "code",
   "execution_count": null,
   "outputs": [],
   "source": [],
   "metadata": {
    "collapsed": false,
    "pycharm": {
     "name": "#%%\n"
    }
   }
  }
 ],
 "metadata": {
  "kernelspec": {
   "display_name": "Python 3",
   "language": "python",
   "name": "python3"
  },
  "language_info": {
   "codemirror_mode": {
    "name": "ipython",
    "version": 2
   },
   "file_extension": ".py",
   "mimetype": "text/x-python",
   "name": "python",
   "nbconvert_exporter": "python",
   "pygments_lexer": "ipython2",
   "version": "2.7.6"
  }
 },
 "nbformat": 4,
 "nbformat_minor": 0
}